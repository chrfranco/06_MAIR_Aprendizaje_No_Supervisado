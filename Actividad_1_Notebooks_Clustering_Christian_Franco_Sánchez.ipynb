{
  "nbformat": 4,
  "nbformat_minor": 0,
  "metadata": {
    "colab": {
      "name": "Actividad 1 . Notebooks Clustering - Christian Franco Sánchez.ipynb",
      "provenance": [],
      "include_colab_link": true
    },
    "kernelspec": {
      "name": "python3",
      "display_name": "Python 3"
    },
    "accelerator": "GPU"
  },
  "cells": [
    {
      "cell_type": "markdown",
      "metadata": {
        "id": "view-in-github",
        "colab_type": "text"
      },
      "source": [
        "<a href=\"https://colab.research.google.com/github/chrfranco/06_MAIR_Aprendizaje_No_Supervisado/blob/master/Actividad_1_Notebooks_Clustering_Christian_Franco_S%C3%A1nchez.ipynb\" target=\"_parent\"><img src=\"https://colab.research.google.com/assets/colab-badge.svg\" alt=\"Open In Colab\"/></a>"
      ]
    },
    {
      "cell_type": "markdown",
      "metadata": {
        "id": "En3pfbDwF64e",
        "colab_type": "text"
      },
      "source": [
        "# **ACTIVIDAD 1 - NOTEBOOKS METODOS DE CLUSTERING**\n",
        "# **Alumno: Christian Franco Sánchez**"
      ]
    },
    {
      "cell_type": "code",
      "metadata": {
        "id": "q3QILI30GK7-",
        "colab_type": "code",
        "colab": {}
      },
      "source": [
        ""
      ],
      "execution_count": 0,
      "outputs": []
    }
  ]
}